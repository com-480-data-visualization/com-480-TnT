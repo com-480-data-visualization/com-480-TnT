{
 "cells": [
  {
   "cell_type": "code",
   "execution_count": 2,
   "id": "b425ef37",
   "metadata": {},
   "outputs": [],
   "source": [
    "import pandas as pd"
   ]
  },
  {
   "cell_type": "code",
   "execution_count": 1,
   "id": "f2fb1789",
   "metadata": {},
   "outputs": [
    {
     "name": "stderr",
     "output_type": "stream",
     "text": [
      "/mnt/hddtheo/EPFL/MA4/dviz/com-480-TnT/.venv/lib/python3.12/site-packages/tqdm/auto.py:21: TqdmWarning: IProgress not found. Please update jupyter and ipywidgets. See https://ipywidgets.readthedocs.io/en/stable/user_install.html\n",
      "  from .autonotebook import tqdm as notebook_tqdm\n"
     ]
    },
    {
     "name": "stdout",
     "output_type": "stream",
     "text": [
      "Warning: Looks like you're using an outdated `kagglehub` version (installed: 0.3.11), please consider upgrading to the latest version (0.3.12).\n",
      "Downloading from https://www.kaggle.com/api/v1/datasets/download/jfreyberg/spotify-chart-data?dataset_version_number=4...\n"
     ]
    },
    {
     "name": "stderr",
     "output_type": "stream",
     "text": [
      "100%|██████████| 60.9M/60.9M [00:02<00:00, 22.8MB/s]"
     ]
    },
    {
     "name": "stdout",
     "output_type": "stream",
     "text": [
      "Extracting files...\n"
     ]
    },
    {
     "name": "stderr",
     "output_type": "stream",
     "text": [
      "\n"
     ]
    },
    {
     "name": "stdout",
     "output_type": "stream",
     "text": [
      "Path to dataset files: /home/thehoul/.cache/kagglehub/datasets/jfreyberg/spotify-chart-data/versions/4\n"
     ]
    }
   ],
   "source": [
    "import kagglehub\n",
    "\n",
    "# Download latest version\n",
    "path = kagglehub.dataset_download(\"jfreyberg/spotify-chart-data\")\n",
    "\n",
    "print(\"Path to dataset files:\", path)"
   ]
  },
  {
   "cell_type": "code",
   "execution_count": 6,
   "id": "df697bad",
   "metadata": {},
   "outputs": [],
   "source": [
    "df = pd.read_csv(path + \"/charts.csv\")"
   ]
  },
  {
   "cell_type": "code",
   "execution_count": 7,
   "id": "f76b9eb8",
   "metadata": {},
   "outputs": [
    {
     "data": {
      "text/html": [
       "<div>\n",
       "<style scoped>\n",
       "    .dataframe tbody tr th:only-of-type {\n",
       "        vertical-align: middle;\n",
       "    }\n",
       "\n",
       "    .dataframe tbody tr th {\n",
       "        vertical-align: top;\n",
       "    }\n",
       "\n",
       "    .dataframe thead th {\n",
       "        text-align: right;\n",
       "    }\n",
       "</style>\n",
       "<table border=\"1\" class=\"dataframe\">\n",
       "  <thead>\n",
       "    <tr style=\"text-align: right;\">\n",
       "      <th></th>\n",
       "      <th>date</th>\n",
       "      <th>country</th>\n",
       "      <th>position</th>\n",
       "      <th>streams</th>\n",
       "      <th>track_id</th>\n",
       "      <th>artists</th>\n",
       "      <th>artist_genres</th>\n",
       "      <th>duration</th>\n",
       "      <th>explicit</th>\n",
       "      <th>name</th>\n",
       "    </tr>\n",
       "  </thead>\n",
       "  <tbody>\n",
       "    <tr>\n",
       "      <th>0</th>\n",
       "      <td>2021/04/15</td>\n",
       "      <td>de</td>\n",
       "      <td>82</td>\n",
       "      <td>625718</td>\n",
       "      <td>20IvMlpi4U5RuDnAlXSRiV</td>\n",
       "      <td>['Haftbefehl']</td>\n",
       "      <td>['german hip hop']</td>\n",
       "      <td>198746</td>\n",
       "      <td>False</td>\n",
       "      <td>Crackküche</td>\n",
       "    </tr>\n",
       "    <tr>\n",
       "      <th>1</th>\n",
       "      <td>2019/01/31</td>\n",
       "      <td>jp</td>\n",
       "      <td>171</td>\n",
       "      <td>50896</td>\n",
       "      <td>0V1K6MU0utODk4yNqZKsFv</td>\n",
       "      <td>['Suchmos']</td>\n",
       "      <td>['japanese r&amp;b', 'j-rock', 'japanese soul', 'j...</td>\n",
       "      <td>408320</td>\n",
       "      <td>False</td>\n",
       "      <td>WATER</td>\n",
       "    </tr>\n",
       "    <tr>\n",
       "      <th>2</th>\n",
       "      <td>2018/11/15</td>\n",
       "      <td>tr</td>\n",
       "      <td>59</td>\n",
       "      <td>185439</td>\n",
       "      <td>4qzZm5EIdFurBpDieEmVc9</td>\n",
       "      <td>['Nilipek.']</td>\n",
       "      <td>['turkish singer-songwriter', 'turkish rock']</td>\n",
       "      <td>257142</td>\n",
       "      <td>False</td>\n",
       "      <td>Gözleri Aşka Gülen</td>\n",
       "    </tr>\n",
       "    <tr>\n",
       "      <th>3</th>\n",
       "      <td>2018/11/22</td>\n",
       "      <td>tr</td>\n",
       "      <td>133</td>\n",
       "      <td>111159</td>\n",
       "      <td>4qzZm5EIdFurBpDieEmVc9</td>\n",
       "      <td>['Nilipek.']</td>\n",
       "      <td>['turkish singer-songwriter', 'turkish rock']</td>\n",
       "      <td>257142</td>\n",
       "      <td>False</td>\n",
       "      <td>Gözleri Aşka Gülen</td>\n",
       "    </tr>\n",
       "    <tr>\n",
       "      <th>4</th>\n",
       "      <td>2018/11/29</td>\n",
       "      <td>tr</td>\n",
       "      <td>166</td>\n",
       "      <td>96204</td>\n",
       "      <td>4qzZm5EIdFurBpDieEmVc9</td>\n",
       "      <td>['Nilipek.']</td>\n",
       "      <td>['turkish singer-songwriter', 'turkish rock']</td>\n",
       "      <td>257142</td>\n",
       "      <td>False</td>\n",
       "      <td>Gözleri Aşka Gülen</td>\n",
       "    </tr>\n",
       "  </tbody>\n",
       "</table>\n",
       "</div>"
      ],
      "text/plain": [
       "         date country  position  streams                track_id  \\\n",
       "0  2021/04/15      de        82   625718  20IvMlpi4U5RuDnAlXSRiV   \n",
       "1  2019/01/31      jp       171    50896  0V1K6MU0utODk4yNqZKsFv   \n",
       "2  2018/11/15      tr        59   185439  4qzZm5EIdFurBpDieEmVc9   \n",
       "3  2018/11/22      tr       133   111159  4qzZm5EIdFurBpDieEmVc9   \n",
       "4  2018/11/29      tr       166    96204  4qzZm5EIdFurBpDieEmVc9   \n",
       "\n",
       "          artists                                      artist_genres  \\\n",
       "0  ['Haftbefehl']                                 ['german hip hop']   \n",
       "1     ['Suchmos']  ['japanese r&b', 'j-rock', 'japanese soul', 'j...   \n",
       "2    ['Nilipek.']      ['turkish singer-songwriter', 'turkish rock']   \n",
       "3    ['Nilipek.']      ['turkish singer-songwriter', 'turkish rock']   \n",
       "4    ['Nilipek.']      ['turkish singer-songwriter', 'turkish rock']   \n",
       "\n",
       "   duration  explicit                name  \n",
       "0    198746     False          Crackküche  \n",
       "1    408320     False               WATER  \n",
       "2    257142     False  Gözleri Aşka Gülen  \n",
       "3    257142     False  Gözleri Aşka Gülen  \n",
       "4    257142     False  Gözleri Aşka Gülen  "
      ]
     },
     "execution_count": 7,
     "metadata": {},
     "output_type": "execute_result"
    }
   ],
   "source": [
    "df.head()"
   ]
  },
  {
   "cell_type": "code",
   "execution_count": 14,
   "id": "a1d95583",
   "metadata": {},
   "outputs": [
    {
     "name": "stdout",
     "output_type": "stream",
     "text": [
      "Date: 2013-04-28, Country: at\n",
      "8\n"
     ]
    },
    {
     "data": {
      "text/html": [
       "<div>\n",
       "<style scoped>\n",
       "    .dataframe tbody tr th:only-of-type {\n",
       "        vertical-align: middle;\n",
       "    }\n",
       "\n",
       "    .dataframe tbody tr th {\n",
       "        vertical-align: top;\n",
       "    }\n",
       "\n",
       "    .dataframe thead th {\n",
       "        text-align: right;\n",
       "    }\n",
       "</style>\n",
       "<table border=\"1\" class=\"dataframe\">\n",
       "  <thead>\n",
       "    <tr style=\"text-align: right;\">\n",
       "      <th></th>\n",
       "      <th>date</th>\n",
       "      <th>country</th>\n",
       "      <th>position</th>\n",
       "      <th>streams</th>\n",
       "      <th>track_id</th>\n",
       "      <th>artists</th>\n",
       "      <th>artist_genres</th>\n",
       "      <th>duration</th>\n",
       "      <th>explicit</th>\n",
       "      <th>name</th>\n",
       "    </tr>\n",
       "  </thead>\n",
       "  <tbody>\n",
       "  </tbody>\n",
       "</table>\n",
       "</div>"
      ],
      "text/plain": [
       "Empty DataFrame\n",
       "Columns: [date, country, position, streams, track_id, artists, artist_genres, duration, explicit, name]\n",
       "Index: []"
      ]
     },
     "metadata": {},
     "output_type": "display_data"
    }
   ],
   "source": [
    "grouped = df.groupby([\"date\", \"country\"])\n",
    "\n",
    "for (date, country), group in grouped:\n",
    "    print(f\"Date: {date}, Country: {country}\")\n",
    "    print(len(group))\n",
    "    display(group[group.position == 1])\n",
    "    break"
   ]
  },
  {
   "cell_type": "code",
   "execution_count": 15,
   "id": "5df172f7",
   "metadata": {},
   "outputs": [
    {
     "name": "stdout",
     "output_type": "stream",
     "text": [
      "5428021\n"
     ]
    }
   ],
   "source": [
    "print(len(df))"
   ]
  },
  {
   "cell_type": "code",
   "execution_count": null,
   "id": "9eea8039",
   "metadata": {},
   "outputs": [],
   "source": []
  }
 ],
 "metadata": {
  "kernelspec": {
   "display_name": ".venv",
   "language": "python",
   "name": "python3"
  },
  "language_info": {
   "codemirror_mode": {
    "name": "ipython",
    "version": 3
   },
   "file_extension": ".py",
   "mimetype": "text/x-python",
   "name": "python",
   "nbconvert_exporter": "python",
   "pygments_lexer": "ipython3",
   "version": "3.12.3"
  }
 },
 "nbformat": 4,
 "nbformat_minor": 5
}
