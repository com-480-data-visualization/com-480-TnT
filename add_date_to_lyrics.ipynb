{
 "cells": [
  {
   "cell_type": "code",
   "execution_count": 1,
   "id": "6058a4b2",
   "metadata": {},
   "outputs": [],
   "source": [
    "import requests"
   ]
  },
  {
   "cell_type": "code",
   "execution_count": 3,
   "id": "cb977dfa",
   "metadata": {},
   "outputs": [],
   "source": [
    "ids = [\"4q3ewBCX7sLwd24euuV69X\", \"06HL4z0CvFAxyc27GXpf02\",\"1Xyo4u8uXC1ZmMpatF05PJ\", \"3TVXtAsR1Inumwj472S9r4\", \"0ys2OFYzWYB5hRDLCsBqx\"]"
   ]
  },
  {
   "cell_type": "code",
   "execution_count": null,
   "metadata": {},
   "outputs": [],
   "source": []
  },
  {
   "cell_type": "code",
   "execution_count": null,
   "id": "fac175cf",
   "metadata": {},
   "outputs": [],
   "source": [
    "token_endpoint = \"https://accounts.spotify.com/api/token\"\n",
    "headers = {\n",
    "    \"Content-Type\": \"application/x-www-form-urlencoded\",\n",
    "}\n",
    "data = {\n",
    "    \"grant_type\": \"client_credentials\",\n",
    "    \"client_id\": \"f3d5aa8ba1a9455f988df557b2170ea5\",\n",
    "    \"client_secret\": \"67f4d5003f1c4d429e83d27626bb5a38\",\n",
    "}"
   ]
  },
  {
   "cell_type": "code",
   "execution_count": 5,
   "id": "4b8936c7",
   "metadata": {},
   "outputs": [],
   "source": [
    "def get_token():\n",
    "    response = requests.post(token_endpoinr, headers=headers, data=data)\n",
    "    if response.status_code == 200:\n",
    "        return response.json().get(\"access_token\")\n",
    "    else:\n",
    "        raise Exception(\"Failed to retrieve access token: \" + response.text)"
   ]
  },
  {
   "cell_type": "code",
   "execution_count": 7,
   "id": "2c9bdd0f",
   "metadata": {},
   "outputs": [
    {
     "data": {
      "text/plain": [
       "'BQC5XMSXCL09qnTfoq0AoaCInpTnQsFRh4no85GM4kR5zPfTubPR6gQ_sB6uvC8YSwrejJRHR2T9SNRcArrz_MDcTIVt0PWPJT1lXVhVG6RBsQUy1gt8sRMmYqWN9fpODBvtLJuXcaA'"
      ]
     },
     "execution_count": 7,
     "metadata": {},
     "output_type": "execute_result"
    }
   ],
   "source": [
    "get_token()"
   ]
  },
  {
   "cell_type": "code",
   "execution_count": 8,
   "id": "df0b9bab",
   "metadata": {},
   "outputs": [],
   "source": [
    "class SpotifyAPI:\n",
    "    def __init__(self, token):\n",
    "        self.token = token\n",
    "        self.base_url = \"https://api.spotify.com/v1\"\n",
    "        self.headers = {\n",
    "            \"Authorization\": f\"Bearer {self.token}\",\n",
    "            \"Content-Type\": \"application/json\",\n",
    "        }\n",
    "\n",
    "    def refresh_token(self):\n",
    "        global data\n",
    "        response = requests.post(token_endpoinr, headers=headers, data=data)\n",
    "        if response.status_code == 200:\n",
    "            self.token = response.json().get(\"access_token\")\n",
    "            self.headers[\"Authorization\"] = f\"Bearer {self.token}\"\n",
    "        else:\n",
    "            raise Exception(\"Failed to refresh access token: \" + response.text)\n",
    "\n",
    "    def get_tracks(self, tracks_id):\n",
    "        url = f\"{self.base_url}/tracks\"\n",
    "        params = {\"ids\": \",\".join(tracks_id)}\n",
    "        response = requests.get(url, headers=self.headers, params=params)\n",
    "        if response.status_code == 200:\n",
    "            return response.json()\n",
    "        elif response.status_code == 401:\n",
    "            self.refresh_token()\n",
    "            return self.get_tracks(tracks_id)\n",
    "\n",
    "        else:\n",
    "            raise Exception(\"Failed to retrieve tracks: \" + response.text)"
   ]
  },
  {
   "cell_type": "code",
   "execution_count": 9,
   "id": "327c6fdc",
   "metadata": {},
   "outputs": [],
   "source": [
    "api = SpotifyAPI(\"BQC5XMSXCL09qnTfoq0AoaCInpTnQsFRh4no85GM4kR5zPfTubPR6gQ_sB6uvC8YSwrejJRHR2T9SNRcArrz_MDcTIVt0PWPJT1lXVhVG6RBsQUy1gt8sRMmYqWN9fpODBvtLJuXcaA\")"
   ]
  },
  {
   "cell_type": "code",
   "execution_count": 10,
   "id": "7e22ba61",
   "metadata": {},
   "outputs": [],
   "source": [
    "tracks1 = api.get_tracks([\"7ouMYWpwJ422jRcDASZB7P\",\"4VqPOruhp5EdPBeR92t6lQ\",\"2takcwOaAZWiXQijPHIx7B\"])\n",
    "tracks1 = api.get_tracks([\"7ouMYWpwJ422jRcDASZB7P\",\"4VqPOruhp5EdPBeR92t6lQ\",\"2takcwOaAZWiXQijPHIx7B\"])"
   ]
  },
  {
   "cell_type": "code",
   "execution_count": 11,
   "id": "459b0bc6",
   "metadata": {},
   "outputs": [
    {
     "name": "stdout",
     "output_type": "stream",
     "text": [
      "{'tracks': [{'album': {'album_type': 'album', 'artists': [{'external_urls': {'spotify': 'https://open.spotify.com/artist/12Chz98pHFMPJEknJQMWvI'}, 'href': 'https://api.spotify.com/v1/artists/12Chz98pHFMPJEknJQMWvI', 'id': '12Chz98pHFMPJEknJQMWvI', 'name': 'Muse', 'type': 'artist', 'uri': 'spotify:artist:12Chz98pHFMPJEknJQMWvI'}], 'available_markets': ['AR', 'AU', 'AT', 'BE', 'BO', 'BR', 'BG', 'CA', 'CL', 'CO', 'CR', 'CY', 'CZ', 'DK', 'DO', 'DE', 'EC', 'EE', 'SV', 'FI', 'FR', 'GR', 'GT', 'HN', 'HK', 'HU', 'IS', 'IE', 'IT', 'LV', 'LT', 'LU', 'MY', 'MT', 'MX', 'NL', 'NZ', 'NI', 'NO', 'PA', 'PY', 'PE', 'PH', 'PL', 'PT', 'SG', 'SK', 'ES', 'SE', 'CH', 'TW', 'TR', 'UY', 'US', 'GB', 'AD', 'LI', 'MC', 'ID', 'JP', 'TH', 'VN', 'RO', 'IL', 'ZA', 'SA', 'AE', 'BH', 'QA', 'OM', 'KW', 'EG', 'MA', 'DZ', 'TN', 'LB', 'JO', 'PS', 'IN', 'BY', 'KZ', 'MD', 'UA', 'AL', 'BA', 'HR', 'ME', 'MK', 'RS', 'SI', 'KR', 'BD', 'PK', 'LK', 'GH', 'KE', 'NG', 'TZ', 'UG', 'AG', 'AM', 'BS', 'BB', 'BZ', 'BT', 'BW', 'BF', 'CV', 'CW', 'DM', 'FJ', 'GM', 'GE', 'GD', 'GW', 'GY', 'HT', 'JM', 'KI', 'LS', 'LR', 'MW', 'MV', 'ML', 'MH', 'FM', 'NA', 'NR', 'NE', 'PW', 'PG', 'PR', 'WS', 'SM', 'ST', 'SN', 'SC', 'SL', 'SB', 'KN', 'LC', 'VC', 'SR', 'TL', 'TO', 'TT', 'TV', 'VU', 'AZ', 'BN', 'BI', 'KH', 'CM', 'TD', 'KM', 'GQ', 'SZ', 'GA', 'GN', 'KG', 'LA', 'MO', 'MR', 'MN', 'NP', 'RW', 'TG', 'UZ', 'ZW', 'BJ', 'MG', 'MU', 'MZ', 'AO', 'CI', 'DJ', 'ZM', 'CD', 'CG', 'IQ', 'LY', 'TJ', 'VE', 'ET', 'XK'], 'external_urls': {'spotify': 'https://open.spotify.com/album/0lw68yx3MhKflWFqCsGkIs'}, 'href': 'https://api.spotify.com/v1/albums/0lw68yx3MhKflWFqCsGkIs', 'id': '0lw68yx3MhKflWFqCsGkIs', 'images': [{'url': 'https://i.scdn.co/image/ab67616d0000b27328933b808bfb4cbbd0385400', 'width': 640, 'height': 640}, {'url': 'https://i.scdn.co/image/ab67616d00001e0228933b808bfb4cbbd0385400', 'width': 300, 'height': 300}, {'url': 'https://i.scdn.co/image/ab67616d0000485128933b808bfb4cbbd0385400', 'width': 64, 'height': 64}], 'name': 'Black Holes and Revelations', 'release_date': '2006-06-19', 'release_date_precision': 'day', 'total_tracks': 12, 'type': 'album', 'uri': 'spotify:album:0lw68yx3MhKflWFqCsGkIs'}, 'artists': [{'external_urls': {'spotify': 'https://open.spotify.com/artist/12Chz98pHFMPJEknJQMWvI'}, 'href': 'https://api.spotify.com/v1/artists/12Chz98pHFMPJEknJQMWvI', 'id': '12Chz98pHFMPJEknJQMWvI', 'name': 'Muse', 'type': 'artist', 'uri': 'spotify:artist:12Chz98pHFMPJEknJQMWvI'}], 'available_markets': ['AR', 'AU', 'AT', 'BE', 'BO', 'BR', 'BG', 'CA', 'CL', 'CO', 'CR', 'CY', 'CZ', 'DK', 'DO', 'DE', 'EC', 'EE', 'SV', 'FI', 'FR', 'GR', 'GT', 'HN', 'HK', 'HU', 'IS', 'IE', 'IT', 'LV', 'LT', 'LU', 'MY', 'MT', 'MX', 'NL', 'NZ', 'NI', 'NO', 'PA', 'PY', 'PE', 'PH', 'PL', 'PT', 'SG', 'SK', 'ES', 'SE', 'CH', 'TW', 'TR', 'UY', 'US', 'GB', 'AD', 'LI', 'MC', 'ID', 'JP', 'TH', 'VN', 'RO', 'IL', 'ZA', 'SA', 'AE', 'BH', 'QA', 'OM', 'KW', 'EG', 'MA', 'DZ', 'TN', 'LB', 'JO', 'PS', 'IN', 'BY', 'KZ', 'MD', 'UA', 'AL', 'BA', 'HR', 'ME', 'MK', 'RS', 'SI', 'KR', 'BD', 'PK', 'LK', 'GH', 'KE', 'NG', 'TZ', 'UG', 'AG', 'AM', 'BS', 'BB', 'BZ', 'BT', 'BW', 'BF', 'CV', 'CW', 'DM', 'FJ', 'GM', 'GE', 'GD', 'GW', 'GY', 'HT', 'JM', 'KI', 'LS', 'LR', 'MW', 'MV', 'ML', 'MH', 'FM', 'NA', 'NR', 'NE', 'PW', 'PG', 'PR', 'WS', 'SM', 'ST', 'SN', 'SC', 'SL', 'SB', 'KN', 'LC', 'VC', 'SR', 'TL', 'TO', 'TT', 'TV', 'VU', 'AZ', 'BN', 'BI', 'KH', 'CM', 'TD', 'KM', 'GQ', 'SZ', 'GA', 'GN', 'KG', 'LA', 'MO', 'MR', 'MN', 'NP', 'RW', 'TG', 'UZ', 'ZW', 'BJ', 'MG', 'MU', 'MZ', 'AO', 'CI', 'DJ', 'ZM', 'CD', 'CG', 'IQ', 'LY', 'TJ', 'VE', 'ET', 'XK'], 'disc_number': 1, 'duration_ms': 366213, 'explicit': False, 'external_ids': {'isrc': 'GBAHT0500600'}, 'external_urls': {'spotify': 'https://open.spotify.com/track/7ouMYWpwJ422jRcDASZB7P'}, 'href': 'https://api.spotify.com/v1/tracks/7ouMYWpwJ422jRcDASZB7P', 'id': '7ouMYWpwJ422jRcDASZB7P', 'is_local': False, 'name': 'Knights of Cydonia', 'popularity': 71, 'preview_url': None, 'track_number': 11, 'type': 'track', 'uri': 'spotify:track:7ouMYWpwJ422jRcDASZB7P'}, {'album': {'album_type': 'album', 'artists': [{'external_urls': {'spotify': 'https://open.spotify.com/artist/12Chz98pHFMPJEknJQMWvI'}, 'href': 'https://api.spotify.com/v1/artists/12Chz98pHFMPJEknJQMWvI', 'id': '12Chz98pHFMPJEknJQMWvI', 'name': 'Muse', 'type': 'artist', 'uri': 'spotify:artist:12Chz98pHFMPJEknJQMWvI'}], 'available_markets': ['AR', 'AU', 'AT', 'BE', 'BO', 'BR', 'BG', 'CA', 'CL', 'CO', 'CR', 'CY', 'CZ', 'DK', 'DO', 'DE', 'EC', 'EE', 'SV', 'FI', 'FR', 'GR', 'GT', 'HN', 'HK', 'HU', 'IS', 'IE', 'IT', 'LV', 'LT', 'LU', 'MY', 'MT', 'MX', 'NL', 'NZ', 'NI', 'NO', 'PA', 'PY', 'PE', 'PH', 'PL', 'PT', 'SG', 'SK', 'ES', 'SE', 'CH', 'TW', 'TR', 'UY', 'US', 'GB', 'AD', 'LI', 'MC', 'ID', 'JP', 'TH', 'VN', 'RO', 'IL', 'ZA', 'SA', 'AE', 'BH', 'QA', 'OM', 'KW', 'EG', 'MA', 'DZ', 'TN', 'LB', 'JO', 'PS', 'IN', 'BY', 'KZ', 'MD', 'UA', 'AL', 'BA', 'HR', 'ME', 'MK', 'RS', 'SI', 'KR', 'BD', 'PK', 'LK', 'GH', 'KE', 'NG', 'TZ', 'UG', 'AG', 'AM', 'BS', 'BB', 'BZ', 'BT', 'BW', 'BF', 'CV', 'CW', 'DM', 'FJ', 'GM', 'GE', 'GD', 'GW', 'GY', 'HT', 'JM', 'KI', 'LS', 'LR', 'MW', 'MV', 'ML', 'MH', 'FM', 'NA', 'NR', 'NE', 'PW', 'PG', 'WS', 'SM', 'ST', 'SN', 'SC', 'SL', 'SB', 'KN', 'LC', 'VC', 'SR', 'TL', 'TO', 'TT', 'TV', 'VU', 'AZ', 'BN', 'BI', 'KH', 'CM', 'TD', 'KM', 'GQ', 'SZ', 'GA', 'GN', 'KG', 'LA', 'MO', 'MR', 'MN', 'NP', 'RW', 'TG', 'UZ', 'ZW', 'BJ', 'MG', 'MU', 'MZ', 'AO', 'CI', 'DJ', 'ZM', 'CD', 'CG', 'IQ', 'LY', 'TJ', 'VE', 'ET', 'XK'], 'external_urls': {'spotify': 'https://open.spotify.com/album/0eFHYz8NmK75zSplL5qlfM'}, 'href': 'https://api.spotify.com/v1/albums/0eFHYz8NmK75zSplL5qlfM', 'id': '0eFHYz8NmK75zSplL5qlfM', 'images': [{'url': 'https://i.scdn.co/image/ab67616d0000b273b6d4566db0d12894a1a3b7a2', 'width': 640, 'height': 640}, {'url': 'https://i.scdn.co/image/ab67616d00001e02b6d4566db0d12894a1a3b7a2', 'width': 300, 'height': 300}, {'url': 'https://i.scdn.co/image/ab67616d00004851b6d4566db0d12894a1a3b7a2', 'width': 64, 'height': 64}], 'name': 'The Resistance', 'release_date': '2009-09-10', 'release_date_precision': 'day', 'total_tracks': 11, 'type': 'album', 'uri': 'spotify:album:0eFHYz8NmK75zSplL5qlfM'}, 'artists': [{'external_urls': {'spotify': 'https://open.spotify.com/artist/12Chz98pHFMPJEknJQMWvI'}, 'href': 'https://api.spotify.com/v1/artists/12Chz98pHFMPJEknJQMWvI', 'id': '12Chz98pHFMPJEknJQMWvI', 'name': 'Muse', 'type': 'artist', 'uri': 'spotify:artist:12Chz98pHFMPJEknJQMWvI'}], 'available_markets': ['AR', 'AU', 'AT', 'BE', 'BO', 'BR', 'BG', 'CA', 'CL', 'CO', 'CR', 'CY', 'CZ', 'DK', 'DO', 'DE', 'EC', 'EE', 'SV', 'FI', 'FR', 'GR', 'GT', 'HN', 'HK', 'HU', 'IS', 'IE', 'IT', 'LV', 'LT', 'LU', 'MY', 'MT', 'MX', 'NL', 'NZ', 'NI', 'NO', 'PA', 'PY', 'PE', 'PH', 'PL', 'PT', 'SG', 'SK', 'ES', 'SE', 'CH', 'TW', 'TR', 'UY', 'US', 'GB', 'AD', 'LI', 'MC', 'ID', 'JP', 'TH', 'VN', 'RO', 'IL', 'ZA', 'SA', 'AE', 'BH', 'QA', 'OM', 'KW', 'EG', 'MA', 'DZ', 'TN', 'LB', 'JO', 'PS', 'IN', 'BY', 'KZ', 'MD', 'UA', 'AL', 'BA', 'HR', 'ME', 'MK', 'RS', 'SI', 'KR', 'BD', 'PK', 'LK', 'GH', 'KE', 'NG', 'TZ', 'UG', 'AG', 'AM', 'BS', 'BB', 'BZ', 'BT', 'BW', 'BF', 'CV', 'CW', 'DM', 'FJ', 'GM', 'GE', 'GD', 'GW', 'GY', 'HT', 'JM', 'KI', 'LS', 'LR', 'MW', 'MV', 'ML', 'MH', 'FM', 'NA', 'NR', 'NE', 'PW', 'PG', 'WS', 'SM', 'ST', 'SN', 'SC', 'SL', 'SB', 'KN', 'LC', 'VC', 'SR', 'TL', 'TO', 'TT', 'TV', 'VU', 'AZ', 'BN', 'BI', 'KH', 'CM', 'TD', 'KM', 'GQ', 'SZ', 'GA', 'GN', 'KG', 'LA', 'MO', 'MR', 'MN', 'NP', 'RW', 'TG', 'UZ', 'ZW', 'BJ', 'MG', 'MU', 'MZ', 'AO', 'CI', 'DJ', 'ZM', 'CD', 'CG', 'IQ', 'LY', 'TJ', 'VE', 'ET', 'XK'], 'disc_number': 1, 'duration_ms': 304840, 'explicit': False, 'external_ids': {'isrc': 'GBAHT0900320'}, 'external_urls': {'spotify': 'https://open.spotify.com/track/4VqPOruhp5EdPBeR92t6lQ'}, 'href': 'https://api.spotify.com/v1/tracks/4VqPOruhp5EdPBeR92t6lQ', 'id': '4VqPOruhp5EdPBeR92t6lQ', 'is_local': False, 'name': 'Uprising', 'popularity': 80, 'preview_url': None, 'track_number': 1, 'type': 'track', 'uri': 'spotify:track:4VqPOruhp5EdPBeR92t6lQ'}, {'album': {'album_type': 'album', 'artists': [{'external_urls': {'spotify': 'https://open.spotify.com/artist/12Chz98pHFMPJEknJQMWvI'}, 'href': 'https://api.spotify.com/v1/artists/12Chz98pHFMPJEknJQMWvI', 'id': '12Chz98pHFMPJEknJQMWvI', 'name': 'Muse', 'type': 'artist', 'uri': 'spotify:artist:12Chz98pHFMPJEknJQMWvI'}], 'available_markets': [], 'external_urls': {'spotify': 'https://open.spotify.com/album/0HcHPBu9aaF1MxOiZmUQTl'}, 'href': 'https://api.spotify.com/v1/albums/0HcHPBu9aaF1MxOiZmUQTl', 'id': '0HcHPBu9aaF1MxOiZmUQTl', 'images': [{'url': 'https://i.scdn.co/image/ab67616d0000b2738cb690f962092fd44bbe2bf4', 'width': 640, 'height': 640}, {'url': 'https://i.scdn.co/image/ab67616d00001e028cb690f962092fd44bbe2bf4', 'width': 300, 'height': 300}, {'url': 'https://i.scdn.co/image/ab67616d000048518cb690f962092fd44bbe2bf4', 'width': 64, 'height': 64}], 'name': 'Absolution', 'release_date': '2004-03-23', 'release_date_precision': 'day', 'total_tracks': 15, 'type': 'album', 'uri': 'spotify:album:0HcHPBu9aaF1MxOiZmUQTl'}, 'artists': [{'external_urls': {'spotify': 'https://open.spotify.com/artist/12Chz98pHFMPJEknJQMWvI'}, 'href': 'https://api.spotify.com/v1/artists/12Chz98pHFMPJEknJQMWvI', 'id': '12Chz98pHFMPJEknJQMWvI', 'name': 'Muse', 'type': 'artist', 'uri': 'spotify:artist:12Chz98pHFMPJEknJQMWvI'}], 'available_markets': [], 'disc_number': 1, 'duration_ms': 237039, 'explicit': False, 'external_ids': {'isrc': 'GBCVT0300078'}, 'external_urls': {'spotify': 'https://open.spotify.com/track/2takcwOaAZWiXQijPHIx7B'}, 'href': 'https://api.spotify.com/v1/tracks/2takcwOaAZWiXQijPHIx7B', 'id': '2takcwOaAZWiXQijPHIx7B', 'is_local': False, 'name': 'Time is Running Out', 'popularity': 5, 'preview_url': None, 'track_number': 3, 'type': 'track', 'uri': 'spotify:track:2takcwOaAZWiXQijPHIx7B'}]}\n"
     ]
    }
   ],
   "source": [
    "print(tracks1)"
   ]
  },
  {
   "cell_type": "code",
   "execution_count": 13,
   "id": "2a5b56f4",
   "metadata": {},
   "outputs": [],
   "source": [
    "all_tracks = tracks1.get(\"tracks\", []).extend(tracks1.get(\"tracks\", []))"
   ]
  },
  {
   "cell_type": "code",
   "execution_count": 15,
   "id": "78328f96",
   "metadata": {},
   "outputs": [
    {
     "name": "stdout",
     "output_type": "stream",
     "text": [
      "6\n"
     ]
    }
   ],
   "source": [
    "print(len(tracks1.get(\"tracks\", [])))"
   ]
  },
  {
   "cell_type": "code",
   "execution_count": null,
   "id": "c3ee561c",
   "metadata": {},
   "outputs": [],
   "source": []
  }
 ],
 "metadata": {
  "kernelspec": {
   "display_name": ".venv",
   "language": "python",
   "name": "python3"
  },
  "language_info": {
   "codemirror_mode": {
    "name": "ipython",
    "version": 3
   },
   "file_extension": ".py",
   "mimetype": "text/x-python",
   "name": "python",
   "nbconvert_exporter": "python",
   "pygments_lexer": "ipython3",
   "version": "3.10.12"
  }
 },
 "nbformat": 4,
 "nbformat_minor": 5
}
