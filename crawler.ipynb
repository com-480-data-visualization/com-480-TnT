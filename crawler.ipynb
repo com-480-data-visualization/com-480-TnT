{
 "cells": [
  {
   "cell_type": "code",
   "execution_count": 1,
   "id": "94dc9f57",
   "metadata": {},
   "outputs": [],
   "source": [
    "import requests\n",
    "import os\n",
    "import pandas as pd\n",
    "import datetime\n",
    "import json"
   ]
  },
  {
   "cell_type": "code",
   "execution_count": 2,
   "id": "ad8f6a33",
   "metadata": {},
   "outputs": [],
   "source": [
    "bearer_token = \"BQCxvHrCCSu-rVS4zLv5NB4ZXb4fidtmVI6NlF1rwRV5HIzZ9r8WR5QDM5rm2pRwfCQSDRbYU2A0wBDtL20jlPD-M4AMDtrbxKH0yN9A3B6hWybJTpUR4gppVSI36qlWXjN4grhs7el7-gcw6mSfx_oq17OPJdcYoGgniTvt5fEZ275fMjErDUyv8aCwCStOJ91FqS2M7kiPtREgrASD5elJ_vutvfIno3xOs81HuEQmYx_4w0cX2xI0X8vgUuF6\""
   ]
  },
  {
   "cell_type": "code",
   "execution_count": 3,
   "id": "c002fe4d",
   "metadata": {},
   "outputs": [],
   "source": [
    "endpoint = 'https://charts-spotify-com-service.spotify.com/auth/v0/charts/{chart}-{country}-weekly/{date}'"
   ]
  },
  {
   "cell_type": "code",
   "execution_count": 4,
   "id": "70912f71",
   "metadata": {},
   "outputs": [],
   "source": [
    "database_dir = 'data'\n",
    "os.makedirs(database_dir, exist_ok=True)"
   ]
  },
  {
   "cell_type": "code",
   "execution_count": 5,
   "id": "31dc112a",
   "metadata": {},
   "outputs": [],
   "source": [
    "headers = {\n",
    "    'Authorization': f'Bearer {bearer_token}',\n",
    "}"
   ]
  },
  {
   "cell_type": "code",
   "execution_count": 6,
   "id": "53791c1c",
   "metadata": {},
   "outputs": [],
   "source": [
    "countries = {\n",
    "    \"GLOBAL\": \"Global\",\n",
    "    \"AR\": \"Argentina\",\n",
    "    \"AU\": \"Australia\",\n",
    "    \"AT\": \"Austria\",\n",
    "    \"BY\": \"Belarus\",\n",
    "    \"BE\": \"Belgium\",\n",
    "    \"BO\": \"Bolivia\",\n",
    "    \"BR\": \"Brazil\",\n",
    "    \"BG\": \"Bulgaria\",\n",
    "    \"CA\": \"Canada\",\n",
    "    \"CL\": \"Chile\",\n",
    "    \"CO\": \"Colombia\",\n",
    "    \"CR\": \"Costa Rica\",\n",
    "    \"CY\": \"Cyprus\",\n",
    "    \"CZ\": \"Czech Republic\",\n",
    "    \"DK\": \"Denmark\",\n",
    "    \"DO\": \"Dominican Republic\",\n",
    "    \"EC\": \"Ecuador\",\n",
    "    \"EG\": \"Egypt\",\n",
    "    \"SV\": \"El Salvador\",\n",
    "    \"EE\": \"Estonia\",\n",
    "    \"FI\": \"Finland\",\n",
    "    \"FR\": \"France\",\n",
    "    \"DE\": \"Germany\",\n",
    "    \"GR\": \"Greece\",\n",
    "    \"GT\": \"Guatemala\",\n",
    "    \"HN\": \"Honduras\",\n",
    "    \"HK\": \"Hong Kong\",\n",
    "    \"HU\": \"Hungary\",\n",
    "    \"IS\": \"Iceland\",\n",
    "    \"IN\": \"India\",\n",
    "    \"ID\": \"Indonesia\",\n",
    "    \"IE\": \"Ireland\",\n",
    "    \"IL\": \"Israel\",\n",
    "    \"IT\": \"Italy\",\n",
    "    \"JP\": \"Japan\",\n",
    "    \"KZ\": \"Kazakhstan\",\n",
    "    \"LV\": \"Latvia\",\n",
    "    \"LT\": \"Lithuania\",\n",
    "    \"LU\": \"Luxembourg\",\n",
    "    \"MY\": \"Malaysia\",\n",
    "    \"MX\": \"Mexico\",\n",
    "    \"MA\": \"Morocco\",\n",
    "    \"NL\": \"Netherlands\",\n",
    "    \"NZ\": \"New Zealand\",\n",
    "    \"NI\": \"Nicaragua\",\n",
    "    \"NG\": \"Nigeria\",\n",
    "    \"NO\": \"Norway\",\n",
    "    \"PK\": \"Pakistan\",\n",
    "    \"PA\": \"Panama\",\n",
    "    \"PY\": \"Paraguay\",\n",
    "    \"PE\": \"Peru\",\n",
    "    \"PH\": \"Philippines\",\n",
    "    \"PL\": \"Poland\",\n",
    "    \"PT\": \"Portugal\",\n",
    "    \"RO\": \"Romania\",\n",
    "    \"SA\": \"Saudi Arabia\",\n",
    "    \"SG\": \"Singapore\",\n",
    "    \"SK\": \"Slovakia\",\n",
    "    \"ZA\": \"South Africa\",\n",
    "    \"KR\": \"South Korea\",\n",
    "    \"ES\": \"Spain\",\n",
    "    \"SE\": \"Sweden\",\n",
    "    \"CH\": \"Switzerland\",\n",
    "    \"TW\": \"Taiwan\",\n",
    "    \"TH\": \"Thailand\",\n",
    "    \"TR\": \"Turkey\",\n",
    "    \"AE\": \"UAE\",\n",
    "    \"UA\": \"Ukraine\",\n",
    "    \"GB\": \"United Kingdom\",\n",
    "    \"UY\": \"Uruguay\",\n",
    "    \"US\": \"USA\",\n",
    "    \"VE\": \"Venezuela\",\n",
    "    \"VN\": \"Vietnam\"\n",
    "}"
   ]
  },
  {
   "cell_type": "code",
   "execution_count": 7,
   "id": "5dfc17ee",
   "metadata": {},
   "outputs": [],
   "source": [
    "all_counties = list(countries.keys())"
   ]
  },
  {
   "cell_type": "code",
   "execution_count": 8,
   "id": "4c5dc679",
   "metadata": {},
   "outputs": [],
   "source": [
    "chartTypes = {\n",
    "    \"album\": \"album\",\n",
    "    \"artist\": \"artist\",\n",
    "    \"song\": \"regional\",\n",
    "}"
   ]
  },
  {
   "cell_type": "code",
   "execution_count": 9,
   "id": "d65da886",
   "metadata": {},
   "outputs": [],
   "source": [
    "def get_weekly_song_rankings(start_date, country_code, chartType):\n",
    "    response = requests.get(endpoint.format(country=country_code, date=start_date, chart=chartType), headers=headers)\n",
    "    if response.status_code == 200:\n",
    "        data = response.json()\n",
    "        return data, response.status_code\n",
    "    else:\n",
    "        return None, response.status_code"
   ]
  },
  {
   "cell_type": "code",
   "execution_count": 10,
   "id": "b807efeb",
   "metadata": {},
   "outputs": [],
   "source": [
    "date_format = '%Y-%m-%d'"
   ]
  },
  {
   "cell_type": "code",
   "execution_count": 11,
   "id": "842ed2ff",
   "metadata": {},
   "outputs": [],
   "source": [
    "def weekly_to_lines(weekly_json):\n",
    "    rankings = []\n",
    "    for entry in weekly_json['entries']:\n",
    "        ranking = dict(entry['chartEntryData'])\n",
    "        ranking['artist_id'] = entry['trackMetadata']['trackUri'].split(':')[-1]\n",
    "        ranking['country'] = weekly_json['displayChart']['chartMetadata']['dimensions']['country']\n",
    "        ranking['date'] = weekly_json['displayChart']['date']\n",
    "        ranking['chartType'] = weekly_json['displayChart']['chartMetadata']['dimensions']['chartType']  \n",
    "        ranking['track_name'] = entry['trackMetadata']['trackName']\n",
    "        ranking['artists'] = []\n",
    "        for artist in entry['trackMetadata']['artists']:\n",
    "            ranking['artists'].append(artist['name']) \n",
    "        ranking['labels'] = []\n",
    "        for label in entry['trackMetadata']['labels']:\n",
    "            ranking['labels'].append(label['name'])\n",
    "        ranking['image_link'] = entry['trackMetadata']['displayImageUri']      \n",
    "        ranking['metricValue'] = entry['chartEntryData']['rankingMetric']['value']\n",
    "        ranking['metricType'] = entry['chartEntryData']['rankingMetric']['type']\n",
    "        rankings.append(ranking.copy())\n",
    "\n",
    "    return rankings"
   ]
  },
  {
   "cell_type": "code",
   "execution_count": 12,
   "id": "bc49c056",
   "metadata": {},
   "outputs": [
    {
     "name": "stdout",
     "output_type": "stream",
     "text": [
      "Token expired, please update the bearer token.\n",
      "Stopped at NL, 2021-04-22\n",
      "Failed to get data for NZ with status code 401\n",
      "Token expired, please update the bearer token.\n",
      "Stopped at NZ, 2021-04-22\n"
     ]
    }
   ],
   "source": [
    "start_date = datetime.datetime(2025, 5, 15)\n",
    "\n",
    "# Create empty pandas DataFrames to store the rankings and artists\n",
    "chartType = \"song\"\n",
    "\n",
    "\n",
    "rankings_chart_db = []\n",
    "for country_code in all_counties:\n",
    "    json_data, status_code = get_weekly_song_rankings('latest', country_code.lower(), chartTypes[chartType])\n",
    "    if status_code != 200:\n",
    "        print(f\"Failed to get data for {country_code} with status code {status_code}\")\n",
    "        if status_code == 401:\n",
    "            print(\"Token expired, please update the bearer token.\")\n",
    "            print(f\"Stopped at {country_code}, {date.strftime(date_format)}\")\n",
    "            break\n",
    "        continue\n",
    "    earliest_date = json_data['displayChart']['chartMetadata']['dimensions']['earliestDate']\n",
    "    date = start_date\n",
    "\n",
    "    while date.strftime(date_format) >= earliest_date:\n",
    "        date_str = date.strftime(date_format)\n",
    "        country_lower = country_code.lower()\n",
    "        json_data, status_code = get_weekly_song_rankings(date_str, country_lower, chartTypes[chartType])\n",
    "        if status_code != 200:\n",
    "            with open(\"failed.txt\", \"a\") as f:\n",
    "                f.write(f\"{chartType},{date_str},{country_code}\\n\")\n",
    "            if status_code == 401:\n",
    "                print(\"Token expired, please update the bearer token.\")\n",
    "                print(f\"Stopped at {country_code}, {date.strftime(date_format)}\")\n",
    "                break\n",
    "            continue\n",
    "\n",
    "        ranking = weekly_to_lines(json_data)\n",
    "        rankings_chart_db.extend(ranking)\n",
    "\n",
    "        # Move date to previous week\n",
    "        date -= datetime.timedelta(weeks=1)\n"
   ]
  },
  {
   "cell_type": "code",
   "execution_count": 13,
   "id": "44350657",
   "metadata": {},
   "outputs": [
    {
     "name": "stdout",
     "output_type": "stream",
     "text": [
      "3611903\n"
     ]
    }
   ],
   "source": [
    "# Save databases\n",
    "chart_df = pd.DataFrame(rankings_chart_db)\n",
    "chart_df.to_csv(os.path.join(database_dir, f'{chartType}.csv'), index=False)\n",
    "print(len(chart_df))"
   ]
  },
  {
   "cell_type": "code",
   "execution_count": 14,
   "id": "5cf9dbcf",
   "metadata": {},
   "outputs": [
    {
     "ename": "TypeError",
     "evalue": "tuple indices must be integers or slices, not str",
     "output_type": "error",
     "traceback": [
      "\u001b[31m---------------------------------------------------------------------------\u001b[39m",
      "\u001b[31mTypeError\u001b[39m                                 Traceback (most recent call last)",
      "\u001b[36mCell\u001b[39m\u001b[36m \u001b[39m\u001b[32mIn[14]\u001b[39m\u001b[32m, line 12\u001b[39m\n\u001b[32m      9\u001b[39m country = split[\u001b[32m2\u001b[39m].strip().lower()\n\u001b[32m     11\u001b[39m json_data = get_weekly_song_rankings(date, country, chartTypes[chart])\n\u001b[32m---> \u001b[39m\u001b[32m12\u001b[39m rankings = \u001b[43mweekly_to_lines\u001b[49m\u001b[43m(\u001b[49m\u001b[43mjson_data\u001b[49m\u001b[43m)\u001b[49m\n\u001b[32m     13\u001b[39m \u001b[38;5;28;01mif\u001b[39;00m json_data \u001b[38;5;129;01mis\u001b[39;00m \u001b[38;5;28;01mNone\u001b[39;00m:\n\u001b[32m     14\u001b[39m     \u001b[38;5;28mprint\u001b[39m(\u001b[33mf\u001b[39m\u001b[33m\"\u001b[39m\u001b[33mError at \u001b[39m\u001b[38;5;132;01m{\u001b[39;00mdate\u001b[38;5;132;01m}\u001b[39;00m\u001b[33m, \u001b[39m\u001b[38;5;132;01m{\u001b[39;00mcountry\u001b[38;5;132;01m}\u001b[39;00m\u001b[33m due to error.\u001b[39m\u001b[33m\"\u001b[39m)\n",
      "\u001b[36mCell\u001b[39m\u001b[36m \u001b[39m\u001b[32mIn[11]\u001b[39m\u001b[32m, line 3\u001b[39m, in \u001b[36mweekly_to_lines\u001b[39m\u001b[34m(weekly_json)\u001b[39m\n\u001b[32m      1\u001b[39m \u001b[38;5;28;01mdef\u001b[39;00m\u001b[38;5;250m \u001b[39m\u001b[34mweekly_to_lines\u001b[39m(weekly_json):\n\u001b[32m      2\u001b[39m     rankings = []\n\u001b[32m----> \u001b[39m\u001b[32m3\u001b[39m     \u001b[38;5;28;01mfor\u001b[39;00m entry \u001b[38;5;129;01min\u001b[39;00m \u001b[43mweekly_json\u001b[49m\u001b[43m[\u001b[49m\u001b[33;43m'\u001b[39;49m\u001b[33;43mentries\u001b[39;49m\u001b[33;43m'\u001b[39;49m\u001b[43m]\u001b[49m:\n\u001b[32m      4\u001b[39m         ranking = \u001b[38;5;28mdict\u001b[39m(entry[\u001b[33m'\u001b[39m\u001b[33mchartEntryData\u001b[39m\u001b[33m'\u001b[39m])\n\u001b[32m      5\u001b[39m         ranking[\u001b[33m'\u001b[39m\u001b[33martist_id\u001b[39m\u001b[33m'\u001b[39m] = entry[\u001b[33m'\u001b[39m\u001b[33mtrackMetadata\u001b[39m\u001b[33m'\u001b[39m][\u001b[33m'\u001b[39m\u001b[33mtrackUri\u001b[39m\u001b[33m'\u001b[39m].split(\u001b[33m'\u001b[39m\u001b[33m:\u001b[39m\u001b[33m'\u001b[39m)[-\u001b[32m1\u001b[39m]\n",
      "\u001b[31mTypeError\u001b[39m: tuple indices must be integers or slices, not str"
     ]
    }
   ],
   "source": [
    "fetched = []\n",
    "\n",
    "with open(\"failed.txt\", \"r\") as f:\n",
    "    lines = f.readlines()\n",
    "    for line in lines:\n",
    "        split = line.split(\",\")\n",
    "        chart = split[0].strip()\n",
    "        date = split[1].strip()\n",
    "        country = split[2].strip().lower()\n",
    "\n",
    "        json_data = get_weekly_song_rankings(date, country, chartTypes[chart])\n",
    "        rankings = weekly_to_lines(json_data)\n",
    "        if json_data is None:\n",
    "            print(f\"Error at {date}, {country} due to error.\")\n",
    "            continue\n",
    "\n",
    "        fetched.extend(rankings)"
   ]
  },
  {
   "cell_type": "code",
   "execution_count": null,
   "id": "e4312e54",
   "metadata": {},
   "outputs": [],
   "source": [
    "original_df = pd.read_csv(os.path.join(database_dir, f'{chartType}.csv'))\n",
    "chart_df = pd.DataFrame(fetched[chartType])\n",
    "chart_df = pd.concat([original_df, chart_df], ignore_index=True)\n",
    "print(len(chart_df))\n",
    "chart_df.to_csv(os.path.join(database_dir, f'{chartType}.csv'), index=False)\n",
    "# Save to pickle as well\n",
    "chart_df.to_pickle(os.path.join(database_dir, f'{chartType}.pkl'))"
   ]
  }
 ],
 "metadata": {
  "kernelspec": {
   "display_name": ".venv",
   "language": "python",
   "name": "python3"
  },
  "language_info": {
   "codemirror_mode": {
    "name": "ipython",
    "version": 3
   },
   "file_extension": ".py",
   "mimetype": "text/x-python",
   "name": "python",
   "nbconvert_exporter": "python",
   "pygments_lexer": "ipython3",
   "version": "3.12.3"
  }
 },
 "nbformat": 4,
 "nbformat_minor": 5
}
