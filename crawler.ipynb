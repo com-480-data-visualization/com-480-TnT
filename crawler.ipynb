{
 "cells": [
  {
   "cell_type": "code",
   "execution_count": 1,
   "id": "94dc9f57",
   "metadata": {},
   "outputs": [],
   "source": [
    "import requests\n",
    "import os\n",
    "import pandas as pd\n",
    "import datetime\n",
    "import json"
   ]
  },
  {
   "cell_type": "code",
   "execution_count": 2,
   "id": "c002fe4d",
   "metadata": {},
   "outputs": [],
   "source": [
    "endpoint = 'https://charts-spotify-com-service.spotify.com/auth/v0/charts/{chart}-{country}-weekly/{date}'"
   ]
  },
  {
   "cell_type": "code",
   "execution_count": 3,
   "id": "70912f71",
   "metadata": {},
   "outputs": [],
   "source": [
    "database_dir = 'data'\n",
    "os.makedirs(database_dir, exist_ok=True)"
   ]
  },
  {
   "cell_type": "code",
   "execution_count": 4,
   "id": "53791c1c",
   "metadata": {},
   "outputs": [],
   "source": [
    "countries = {\n",
    "    \"GLOBAL\": \"Global\",\n",
    "    \"AR\": \"Argentina\",\n",
    "    \"AU\": \"Australia\",\n",
    "    \"AT\": \"Austria\",\n",
    "    \"BY\": \"Belarus\",\n",
    "    \"BE\": \"Belgium\",\n",
    "    \"BO\": \"Bolivia\",\n",
    "    \"BR\": \"Brazil\",\n",
    "    \"BG\": \"Bulgaria\",\n",
    "    \"CA\": \"Canada\",\n",
    "    \"CL\": \"Chile\",\n",
    "    \"CO\": \"Colombia\",\n",
    "    \"CR\": \"Costa Rica\",\n",
    "    \"CY\": \"Cyprus\",\n",
    "    \"CZ\": \"Czech Republic\",\n",
    "    \"DK\": \"Denmark\",\n",
    "    \"DO\": \"Dominican Republic\",\n",
    "    \"EC\": \"Ecuador\",\n",
    "    \"EG\": \"Egypt\",\n",
    "    \"SV\": \"El Salvador\",\n",
    "    \"EE\": \"Estonia\",\n",
    "    \"FI\": \"Finland\",\n",
    "    \"FR\": \"France\",\n",
    "    \"DE\": \"Germany\",\n",
    "    \"GR\": \"Greece\",\n",
    "    \"GT\": \"Guatemala\",\n",
    "    \"HN\": \"Honduras\",\n",
    "    \"HK\": \"Hong Kong\",\n",
    "    \"HU\": \"Hungary\",\n",
    "    \"IS\": \"Iceland\",\n",
    "    \"IN\": \"India\",\n",
    "    \"ID\": \"Indonesia\",\n",
    "    \"IE\": \"Ireland\",\n",
    "    \"IL\": \"Israel\",\n",
    "    \"IT\": \"Italy\",\n",
    "    \"JP\": \"Japan\",\n",
    "    \"KZ\": \"Kazakhstan\",\n",
    "    \"LV\": \"Latvia\",\n",
    "    \"LT\": \"Lithuania\",\n",
    "    \"LU\": \"Luxembourg\",\n",
    "    \"MY\": \"Malaysia\",\n",
    "    \"MX\": \"Mexico\",\n",
    "    \"MA\": \"Morocco\",\n",
    "    \"NL\": \"Netherlands\",\n",
    "    \"NZ\": \"New Zealand\",\n",
    "    \"NI\": \"Nicaragua\",\n",
    "    \"NG\": \"Nigeria\",\n",
    "    \"NO\": \"Norway\",\n",
    "    \"PK\": \"Pakistan\",\n",
    "    \"PA\": \"Panama\",\n",
    "    \"PY\": \"Paraguay\",\n",
    "    \"PE\": \"Peru\",\n",
    "    \"PH\": \"Philippines\",\n",
    "    \"PL\": \"Poland\",\n",
    "    \"PT\": \"Portugal\",\n",
    "    \"RO\": \"Romania\",\n",
    "    \"SA\": \"Saudi Arabia\",\n",
    "    \"SG\": \"Singapore\",\n",
    "    \"SK\": \"Slovakia\",\n",
    "    \"ZA\": \"South Africa\",\n",
    "    \"KR\": \"South Korea\",\n",
    "    \"ES\": \"Spain\",\n",
    "    \"SE\": \"Sweden\",\n",
    "    \"CH\": \"Switzerland\",\n",
    "    \"TW\": \"Taiwan\",\n",
    "    \"TH\": \"Thailand\",\n",
    "    \"TR\": \"Turkey\",\n",
    "    \"AE\": \"UAE\",\n",
    "    \"UA\": \"Ukraine\",\n",
    "    \"GB\": \"United Kingdom\",\n",
    "    \"UY\": \"Uruguay\",\n",
    "    \"US\": \"USA\",\n",
    "    \"VE\": \"Venezuela\",\n",
    "    \"VN\": \"Vietnam\"\n",
    "}"
   ]
  },
  {
   "cell_type": "code",
   "execution_count": 19,
   "id": "5dfc17ee",
   "metadata": {},
   "outputs": [],
   "source": [
    "all_countries = list(countries.keys())"
   ]
  },
  {
   "cell_type": "code",
   "execution_count": 72,
   "id": "3ec282a9",
   "metadata": {},
   "outputs": [],
   "source": [
    "token = \"BQBieP6-0DWhtAgvvKIBcNjmDJFYu4cfuoB8ultVprefFtCbdszni-yLlpkH3MY5qBXFQw2X5oVuJhwLITX0rutUKDGkcAqD-HqReNMn-OmfUY5EV3rLKOzgTxfdq3-lpLKAUF3s6uSZbfWAf-3KTpJEW9JeQxOXTAhAU0u3EX7wiDTrElJrDkmGnWWfb-5hq7_7MF0ytYMDGeipXkFhbX4gkYjkEmOL3D_dvp2OMpYufFNXiZs7eJ6HDU2THpac\""
   ]
  },
  {
   "cell_type": "code",
   "execution_count": 73,
   "id": "31dc112a",
   "metadata": {},
   "outputs": [],
   "source": [
    "headers = {\n",
    "    'Authorization': f'Bearer {token}',\n",
    "}"
   ]
  },
  {
   "cell_type": "code",
   "execution_count": 9,
   "id": "4c5dc679",
   "metadata": {},
   "outputs": [],
   "source": [
    "chartTypesMap = {\n",
    "    \"album\": \"album\",\n",
    "    \"artist\": \"artist\",\n",
    "    \"song\": \"regional\",\n",
    "}\n",
    "\n",
    "chartTypes = list(chartTypesMap.keys())"
   ]
  },
  {
   "cell_type": "code",
   "execution_count": 10,
   "id": "d65da886",
   "metadata": {},
   "outputs": [],
   "source": [
    "def get_weekly_song_rankings(start_date, country_code, chartType):\n",
    "    response = requests.get(endpoint.format(country=country_code, date=start_date, chart=chartType), headers=headers)\n",
    "    if response.status_code == 200:\n",
    "        data = response.json()\n",
    "        return data, 200\n",
    "    else:\n",
    "        print(f\"Error: {response.status_code}\")\n",
    "        return None, response.status_code"
   ]
  },
  {
   "cell_type": "code",
   "execution_count": 11,
   "id": "b807efeb",
   "metadata": {},
   "outputs": [],
   "source": [
    "date_format = '%Y-%m-%d'"
   ]
  },
  {
   "cell_type": "code",
   "execution_count": 12,
   "id": "4ca6bcdd",
   "metadata": {},
   "outputs": [],
   "source": [
    "def get_entry(entry, chartType):\n",
    "    ranking = dict(entry['chartEntryData'])\n",
    "    if chartType == \"album\":\n",
    "        ranking['album_id'] = entry['albumMetadata']['albumUri'].split(':')[-1]\n",
    "        ranking['album_name'] = entry['albumMetadata']['albumName']\n",
    "        ranking['image_link'] = entry['albumMetadata']['displayImageUri']     \n",
    "        ranking['artists'] = ', '.join([artist['name'] for artist in entry['albumMetadata']['artists']])\n",
    "    elif chartType == \"artist\":\n",
    "        ranking['artist_id'] = entry['artistMetadata']['artistUri'].split(':')[-1]\n",
    "        ranking['artist_name'] = entry['artistMetadata']['artistName']\n",
    "        ranking['image_link'] = entry['artistMetadata']['displayImageUri']      \n",
    "    elif chartType == \"song\":\n",
    "        ranking['track_id'] = entry['trackMetadata']['trackUri'].split(':')[-1]\n",
    "    \n",
    "        ranking['track_name'] = entry['trackMetadata']['trackName']\n",
    "        ranking['image_link'] = entry['trackMetadata']['displayImageUri']      \n",
    "        ranking['artists'] = ', '.join([artist['name'] for artist in entry['trackMetadata']['artists']])\n",
    "        ranking['release_date'] = entry['trackMetadata'].get('releaseDate', 'Unknown')\n",
    "    else:\n",
    "        raise ValueError(\"Invalid chart type\")\n",
    "    \n",
    "    return ranking"
   ]
  },
  {
   "cell_type": "code",
   "execution_count": 13,
   "id": "842ed2ff",
   "metadata": {},
   "outputs": [],
   "source": [
    "def weekly_to_lines(weekly_json, chartType):\n",
    "    rankings = []\n",
    "    for entry in weekly_json['entries']:\n",
    "        ranking = get_entry(entry, chartType)\n",
    "        ranking['country'] = weekly_json['displayChart']['chartMetadata']['dimensions']['country']\n",
    "        ranking['date'] = weekly_json['displayChart']['date']\n",
    "        ranking['chartType'] = weekly_json['displayChart']['chartMetadata']['dimensions']['chartType']  \n",
    "        rankings.append(ranking.copy())\n",
    "    return rankings"
   ]
  },
  {
   "cell_type": "code",
   "execution_count": 44,
   "id": "776f2c7d",
   "metadata": {},
   "outputs": [],
   "source": [
    "# Get the earliest date for each country\n",
    "country_earliest_dates = {}\n",
    "for country in all_countries:\n",
    "    json_data, status = get_weekly_song_rankings('latest', country, chartTypesMap['song'])\n",
    "    if status == 200:\n",
    "        earliest_date = json_data['displayChart']['chartMetadata']['dimensions']['earliestDate']\n",
    "        country_earliest_dates[country] = earliest_date\n",
    "    else:\n",
    "        print(f\"Failed to fetch data for {country}: {status}\")"
   ]
  },
  {
   "cell_type": "code",
   "execution_count": null,
   "id": "bc49c056",
   "metadata": {},
   "outputs": [],
   "source": [
    "start_date = datetime.datetime(2016, 12, 29)\n",
    "date = start_date\n",
    "\n",
    "# Create empty pandas DataFrames to store the rankings and artists\n",
    "rankings_db = []\n",
    "chartType = 'song'\n",
    "\n",
    "while date.year > 2015:\n",
    "    for country_code in all_countries:\n",
    "        date_str = date.strftime(date_format)\n",
    "\n",
    "        if date_str < country_earliest_dates[country_code]:\n",
    "            continue\n",
    "        country_lower = country_code.lower()\n",
    "        json_data, status_code = get_weekly_song_rankings(date_str, country_lower, chartTypesMap[chartType])\n",
    "\n",
    "        if json_data is None:\n",
    "            with open(\"failed.txt\", \"a\") as f:\n",
    "                f.write(f\"{chartType},{date_str},{country_code}\\n\")\n",
    "\n",
    "            if status_code == 401:\n",
    "                token = input(\"Please enter a new token: \")\n",
    "                headers['Authorization'] = f'Bearer {token}'\n",
    "            continue\n",
    "\n",
    "        ranking = weekly_to_lines(json_data, chartType)\n",
    "        rankings_db.extend(ranking)\n",
    "\n",
    "    # Move date to previous week\n",
    "    date -= datetime.timedelta(weeks=1)\n"
   ]
  },
  {
   "cell_type": "code",
   "execution_count": 75,
   "id": "aafb4293",
   "metadata": {},
   "outputs": [
    {
     "name": "stdout",
     "output_type": "stream",
     "text": [
      "2016-12-29\n"
     ]
    }
   ],
   "source": [
    "print(date.strftime(date_format))"
   ]
  },
  {
   "cell_type": "code",
   "execution_count": 76,
   "id": "5bd64842",
   "metadata": {},
   "outputs": [
    {
     "name": "stdout",
     "output_type": "stream",
     "text": [
      "5346078\n"
     ]
    }
   ],
   "source": [
    "current_df = pd.read_csv(os.path.join(database_dir, f'{chartType}.csv'))\n",
    "print(len(current_df))\n"
   ]
  },
  {
   "cell_type": "code",
   "execution_count": 77,
   "id": "2de2bbe8",
   "metadata": {},
   "outputs": [
    {
     "name": "stdout",
     "output_type": "stream",
     "text": [
      "583899\n"
     ]
    }
   ],
   "source": [
    "new_df = pd.DataFrame(rankings_db)\n",
    "print(len(new_df))\n",
    "# Concatenate and save\n"
   ]
  },
  {
   "cell_type": "code",
   "execution_count": 78,
   "id": "c37d2c07",
   "metadata": {},
   "outputs": [
    {
     "name": "stdout",
     "output_type": "stream",
     "text": [
      "5929977\n"
     ]
    }
   ],
   "source": [
    "final_df = pd.concat([current_df, new_df], ignore_index=True)\n",
    "print(len(final_df))\n"
   ]
  },
  {
   "cell_type": "code",
   "execution_count": null,
   "id": "582b1c94",
   "metadata": {},
   "outputs": [],
   "source": [
    "final_df.to_csv(os.path.join(database_dir, f'{chartType}.csv'), index=False)"
   ]
  },
  {
   "cell_type": "code",
   "execution_count": 15,
   "id": "44350657",
   "metadata": {},
   "outputs": [
    {
     "name": "stdout",
     "output_type": "stream",
     "text": [
      "295800\n"
     ]
    }
   ],
   "source": [
    "# Save databases\n",
    "chart_df = pd.DataFrame(rankings_db)\n",
    "chart_df.to_csv(os.path.join(database_dir, f'{chartType}.csv'), index=False)\n",
    "print(len(chart_df))"
   ]
  },
  {
   "cell_type": "code",
   "execution_count": 62,
   "id": "5cf9dbcf",
   "metadata": {},
   "outputs": [
    {
     "name": "stdout",
     "output_type": "stream",
     "text": [
      "Error: 503\n",
      "Error at 2023-10-19, nl due to error.\n",
      "Error: 503\n",
      "Error at 2023-10-19, nl due to error.\n"
     ]
    },
    {
     "ename": "KeyboardInterrupt",
     "evalue": "",
     "output_type": "error",
     "traceback": [
      "\u001b[31m---------------------------------------------------------------------------\u001b[39m",
      "\u001b[31mKeyboardInterrupt\u001b[39m                         Traceback (most recent call last)",
      "\u001b[36mCell\u001b[39m\u001b[36m \u001b[39m\u001b[32mIn[62]\u001b[39m\u001b[32m, line 15\u001b[39m\n\u001b[32m     12\u001b[39m date = split[\u001b[32m1\u001b[39m].strip()\n\u001b[32m     13\u001b[39m country = split[\u001b[32m2\u001b[39m].strip().lower()\n\u001b[32m---> \u001b[39m\u001b[32m15\u001b[39m json_data, sc = \u001b[43mget_weekly_song_rankings\u001b[49m\u001b[43m(\u001b[49m\u001b[43mdate\u001b[49m\u001b[43m,\u001b[49m\u001b[43m \u001b[49m\u001b[43mcountry\u001b[49m\u001b[43m,\u001b[49m\u001b[43m \u001b[49m\u001b[43mchartTypesMap\u001b[49m\u001b[43m[\u001b[49m\u001b[43mchart\u001b[49m\u001b[43m]\u001b[49m\u001b[43m)\u001b[49m\n\u001b[32m     16\u001b[39m \u001b[38;5;28;01mif\u001b[39;00m json_data \u001b[38;5;129;01mis\u001b[39;00m \u001b[38;5;28;01mNone\u001b[39;00m:\n\u001b[32m     17\u001b[39m     \u001b[38;5;28mprint\u001b[39m(\u001b[33mf\u001b[39m\u001b[33m\"\u001b[39m\u001b[33mError at \u001b[39m\u001b[38;5;132;01m{\u001b[39;00mdate\u001b[38;5;132;01m}\u001b[39;00m\u001b[33m, \u001b[39m\u001b[38;5;132;01m{\u001b[39;00mcountry\u001b[38;5;132;01m}\u001b[39;00m\u001b[33m due to error.\u001b[39m\u001b[33m\"\u001b[39m)\n",
      "\u001b[36mCell\u001b[39m\u001b[36m \u001b[39m\u001b[32mIn[49]\u001b[39m\u001b[32m, line 2\u001b[39m, in \u001b[36mget_weekly_song_rankings\u001b[39m\u001b[34m(start_date, country_code, chartType)\u001b[39m\n\u001b[32m      1\u001b[39m \u001b[38;5;28;01mdef\u001b[39;00m\u001b[38;5;250m \u001b[39m\u001b[34mget_weekly_song_rankings\u001b[39m(start_date, country_code, chartType):\n\u001b[32m----> \u001b[39m\u001b[32m2\u001b[39m     response = \u001b[43mrequests\u001b[49m\u001b[43m.\u001b[49m\u001b[43mget\u001b[49m\u001b[43m(\u001b[49m\u001b[43mendpoint\u001b[49m\u001b[43m.\u001b[49m\u001b[43mformat\u001b[49m\u001b[43m(\u001b[49m\u001b[43mcountry\u001b[49m\u001b[43m=\u001b[49m\u001b[43mcountry_code\u001b[49m\u001b[43m,\u001b[49m\u001b[43m \u001b[49m\u001b[43mdate\u001b[49m\u001b[43m=\u001b[49m\u001b[43mstart_date\u001b[49m\u001b[43m,\u001b[49m\u001b[43m \u001b[49m\u001b[43mchart\u001b[49m\u001b[43m=\u001b[49m\u001b[43mchartType\u001b[49m\u001b[43m)\u001b[49m\u001b[43m,\u001b[49m\u001b[43m \u001b[49m\u001b[43mheaders\u001b[49m\u001b[43m=\u001b[49m\u001b[43mheaders\u001b[49m\u001b[43m)\u001b[49m\n\u001b[32m      3\u001b[39m     \u001b[38;5;28;01mif\u001b[39;00m response.status_code == \u001b[32m200\u001b[39m:\n\u001b[32m      4\u001b[39m         data = response.json()\n",
      "\u001b[36mFile \u001b[39m\u001b[32m/mnt/hddtheo/EPFL/MA4/dviz/com-480-TnT/.venv/lib/python3.12/site-packages/requests/api.py:73\u001b[39m, in \u001b[36mget\u001b[39m\u001b[34m(url, params, **kwargs)\u001b[39m\n\u001b[32m     62\u001b[39m \u001b[38;5;28;01mdef\u001b[39;00m\u001b[38;5;250m \u001b[39m\u001b[34mget\u001b[39m(url, params=\u001b[38;5;28;01mNone\u001b[39;00m, **kwargs):\n\u001b[32m     63\u001b[39m \u001b[38;5;250m    \u001b[39m\u001b[33mr\u001b[39m\u001b[33;03m\"\"\"Sends a GET request.\u001b[39;00m\n\u001b[32m     64\u001b[39m \n\u001b[32m     65\u001b[39m \u001b[33;03m    :param url: URL for the new :class:`Request` object.\u001b[39;00m\n\u001b[32m   (...)\u001b[39m\u001b[32m     70\u001b[39m \u001b[33;03m    :rtype: requests.Response\u001b[39;00m\n\u001b[32m     71\u001b[39m \u001b[33;03m    \"\"\"\u001b[39;00m\n\u001b[32m---> \u001b[39m\u001b[32m73\u001b[39m     \u001b[38;5;28;01mreturn\u001b[39;00m \u001b[43mrequest\u001b[49m\u001b[43m(\u001b[49m\u001b[33;43m\"\u001b[39;49m\u001b[33;43mget\u001b[39;49m\u001b[33;43m\"\u001b[39;49m\u001b[43m,\u001b[49m\u001b[43m \u001b[49m\u001b[43murl\u001b[49m\u001b[43m,\u001b[49m\u001b[43m \u001b[49m\u001b[43mparams\u001b[49m\u001b[43m=\u001b[49m\u001b[43mparams\u001b[49m\u001b[43m,\u001b[49m\u001b[43m \u001b[49m\u001b[43m*\u001b[49m\u001b[43m*\u001b[49m\u001b[43mkwargs\u001b[49m\u001b[43m)\u001b[49m\n",
      "\u001b[36mFile \u001b[39m\u001b[32m/mnt/hddtheo/EPFL/MA4/dviz/com-480-TnT/.venv/lib/python3.12/site-packages/requests/api.py:59\u001b[39m, in \u001b[36mrequest\u001b[39m\u001b[34m(method, url, **kwargs)\u001b[39m\n\u001b[32m     55\u001b[39m \u001b[38;5;66;03m# By using the 'with' statement we are sure the session is closed, thus we\u001b[39;00m\n\u001b[32m     56\u001b[39m \u001b[38;5;66;03m# avoid leaving sockets open which can trigger a ResourceWarning in some\u001b[39;00m\n\u001b[32m     57\u001b[39m \u001b[38;5;66;03m# cases, and look like a memory leak in others.\u001b[39;00m\n\u001b[32m     58\u001b[39m \u001b[38;5;28;01mwith\u001b[39;00m sessions.Session() \u001b[38;5;28;01mas\u001b[39;00m session:\n\u001b[32m---> \u001b[39m\u001b[32m59\u001b[39m     \u001b[38;5;28;01mreturn\u001b[39;00m \u001b[43msession\u001b[49m\u001b[43m.\u001b[49m\u001b[43mrequest\u001b[49m\u001b[43m(\u001b[49m\u001b[43mmethod\u001b[49m\u001b[43m=\u001b[49m\u001b[43mmethod\u001b[49m\u001b[43m,\u001b[49m\u001b[43m \u001b[49m\u001b[43murl\u001b[49m\u001b[43m=\u001b[49m\u001b[43murl\u001b[49m\u001b[43m,\u001b[49m\u001b[43m \u001b[49m\u001b[43m*\u001b[49m\u001b[43m*\u001b[49m\u001b[43mkwargs\u001b[49m\u001b[43m)\u001b[49m\n",
      "\u001b[36mFile \u001b[39m\u001b[32m/mnt/hddtheo/EPFL/MA4/dviz/com-480-TnT/.venv/lib/python3.12/site-packages/requests/sessions.py:589\u001b[39m, in \u001b[36mSession.request\u001b[39m\u001b[34m(self, method, url, params, data, headers, cookies, files, auth, timeout, allow_redirects, proxies, hooks, stream, verify, cert, json)\u001b[39m\n\u001b[32m    584\u001b[39m send_kwargs = {\n\u001b[32m    585\u001b[39m     \u001b[33m\"\u001b[39m\u001b[33mtimeout\u001b[39m\u001b[33m\"\u001b[39m: timeout,\n\u001b[32m    586\u001b[39m     \u001b[33m\"\u001b[39m\u001b[33mallow_redirects\u001b[39m\u001b[33m\"\u001b[39m: allow_redirects,\n\u001b[32m    587\u001b[39m }\n\u001b[32m    588\u001b[39m send_kwargs.update(settings)\n\u001b[32m--> \u001b[39m\u001b[32m589\u001b[39m resp = \u001b[38;5;28;43mself\u001b[39;49m\u001b[43m.\u001b[49m\u001b[43msend\u001b[49m\u001b[43m(\u001b[49m\u001b[43mprep\u001b[49m\u001b[43m,\u001b[49m\u001b[43m \u001b[49m\u001b[43m*\u001b[49m\u001b[43m*\u001b[49m\u001b[43msend_kwargs\u001b[49m\u001b[43m)\u001b[49m\n\u001b[32m    591\u001b[39m \u001b[38;5;28;01mreturn\u001b[39;00m resp\n",
      "\u001b[36mFile \u001b[39m\u001b[32m/mnt/hddtheo/EPFL/MA4/dviz/com-480-TnT/.venv/lib/python3.12/site-packages/requests/sessions.py:703\u001b[39m, in \u001b[36mSession.send\u001b[39m\u001b[34m(self, request, **kwargs)\u001b[39m\n\u001b[32m    700\u001b[39m start = preferred_clock()\n\u001b[32m    702\u001b[39m \u001b[38;5;66;03m# Send the request\u001b[39;00m\n\u001b[32m--> \u001b[39m\u001b[32m703\u001b[39m r = \u001b[43madapter\u001b[49m\u001b[43m.\u001b[49m\u001b[43msend\u001b[49m\u001b[43m(\u001b[49m\u001b[43mrequest\u001b[49m\u001b[43m,\u001b[49m\u001b[43m \u001b[49m\u001b[43m*\u001b[49m\u001b[43m*\u001b[49m\u001b[43mkwargs\u001b[49m\u001b[43m)\u001b[49m\n\u001b[32m    705\u001b[39m \u001b[38;5;66;03m# Total elapsed time of the request (approximately)\u001b[39;00m\n\u001b[32m    706\u001b[39m elapsed = preferred_clock() - start\n",
      "\u001b[36mFile \u001b[39m\u001b[32m/mnt/hddtheo/EPFL/MA4/dviz/com-480-TnT/.venv/lib/python3.12/site-packages/requests/adapters.py:667\u001b[39m, in \u001b[36mHTTPAdapter.send\u001b[39m\u001b[34m(self, request, stream, timeout, verify, cert, proxies)\u001b[39m\n\u001b[32m    664\u001b[39m     timeout = TimeoutSauce(connect=timeout, read=timeout)\n\u001b[32m    666\u001b[39m \u001b[38;5;28;01mtry\u001b[39;00m:\n\u001b[32m--> \u001b[39m\u001b[32m667\u001b[39m     resp = \u001b[43mconn\u001b[49m\u001b[43m.\u001b[49m\u001b[43murlopen\u001b[49m\u001b[43m(\u001b[49m\n\u001b[32m    668\u001b[39m \u001b[43m        \u001b[49m\u001b[43mmethod\u001b[49m\u001b[43m=\u001b[49m\u001b[43mrequest\u001b[49m\u001b[43m.\u001b[49m\u001b[43mmethod\u001b[49m\u001b[43m,\u001b[49m\n\u001b[32m    669\u001b[39m \u001b[43m        \u001b[49m\u001b[43murl\u001b[49m\u001b[43m=\u001b[49m\u001b[43murl\u001b[49m\u001b[43m,\u001b[49m\n\u001b[32m    670\u001b[39m \u001b[43m        \u001b[49m\u001b[43mbody\u001b[49m\u001b[43m=\u001b[49m\u001b[43mrequest\u001b[49m\u001b[43m.\u001b[49m\u001b[43mbody\u001b[49m\u001b[43m,\u001b[49m\n\u001b[32m    671\u001b[39m \u001b[43m        \u001b[49m\u001b[43mheaders\u001b[49m\u001b[43m=\u001b[49m\u001b[43mrequest\u001b[49m\u001b[43m.\u001b[49m\u001b[43mheaders\u001b[49m\u001b[43m,\u001b[49m\n\u001b[32m    672\u001b[39m \u001b[43m        \u001b[49m\u001b[43mredirect\u001b[49m\u001b[43m=\u001b[49m\u001b[38;5;28;43;01mFalse\u001b[39;49;00m\u001b[43m,\u001b[49m\n\u001b[32m    673\u001b[39m \u001b[43m        \u001b[49m\u001b[43massert_same_host\u001b[49m\u001b[43m=\u001b[49m\u001b[38;5;28;43;01mFalse\u001b[39;49;00m\u001b[43m,\u001b[49m\n\u001b[32m    674\u001b[39m \u001b[43m        \u001b[49m\u001b[43mpreload_content\u001b[49m\u001b[43m=\u001b[49m\u001b[38;5;28;43;01mFalse\u001b[39;49;00m\u001b[43m,\u001b[49m\n\u001b[32m    675\u001b[39m \u001b[43m        \u001b[49m\u001b[43mdecode_content\u001b[49m\u001b[43m=\u001b[49m\u001b[38;5;28;43;01mFalse\u001b[39;49;00m\u001b[43m,\u001b[49m\n\u001b[32m    676\u001b[39m \u001b[43m        \u001b[49m\u001b[43mretries\u001b[49m\u001b[43m=\u001b[49m\u001b[38;5;28;43mself\u001b[39;49m\u001b[43m.\u001b[49m\u001b[43mmax_retries\u001b[49m\u001b[43m,\u001b[49m\n\u001b[32m    677\u001b[39m \u001b[43m        \u001b[49m\u001b[43mtimeout\u001b[49m\u001b[43m=\u001b[49m\u001b[43mtimeout\u001b[49m\u001b[43m,\u001b[49m\n\u001b[32m    678\u001b[39m \u001b[43m        \u001b[49m\u001b[43mchunked\u001b[49m\u001b[43m=\u001b[49m\u001b[43mchunked\u001b[49m\u001b[43m,\u001b[49m\n\u001b[32m    679\u001b[39m \u001b[43m    \u001b[49m\u001b[43m)\u001b[49m\n\u001b[32m    681\u001b[39m \u001b[38;5;28;01mexcept\u001b[39;00m (ProtocolError, \u001b[38;5;167;01mOSError\u001b[39;00m) \u001b[38;5;28;01mas\u001b[39;00m err:\n\u001b[32m    682\u001b[39m     \u001b[38;5;28;01mraise\u001b[39;00m \u001b[38;5;167;01mConnectionError\u001b[39;00m(err, request=request)\n",
      "\u001b[36mFile \u001b[39m\u001b[32m/mnt/hddtheo/EPFL/MA4/dviz/com-480-TnT/.venv/lib/python3.12/site-packages/urllib3/connectionpool.py:787\u001b[39m, in \u001b[36mHTTPConnectionPool.urlopen\u001b[39m\u001b[34m(self, method, url, body, headers, retries, redirect, assert_same_host, timeout, pool_timeout, release_conn, chunked, body_pos, preload_content, decode_content, **response_kw)\u001b[39m\n\u001b[32m    784\u001b[39m response_conn = conn \u001b[38;5;28;01mif\u001b[39;00m \u001b[38;5;129;01mnot\u001b[39;00m release_conn \u001b[38;5;28;01melse\u001b[39;00m \u001b[38;5;28;01mNone\u001b[39;00m\n\u001b[32m    786\u001b[39m \u001b[38;5;66;03m# Make the request on the HTTPConnection object\u001b[39;00m\n\u001b[32m--> \u001b[39m\u001b[32m787\u001b[39m response = \u001b[38;5;28;43mself\u001b[39;49m\u001b[43m.\u001b[49m\u001b[43m_make_request\u001b[49m\u001b[43m(\u001b[49m\n\u001b[32m    788\u001b[39m \u001b[43m    \u001b[49m\u001b[43mconn\u001b[49m\u001b[43m,\u001b[49m\n\u001b[32m    789\u001b[39m \u001b[43m    \u001b[49m\u001b[43mmethod\u001b[49m\u001b[43m,\u001b[49m\n\u001b[32m    790\u001b[39m \u001b[43m    \u001b[49m\u001b[43murl\u001b[49m\u001b[43m,\u001b[49m\n\u001b[32m    791\u001b[39m \u001b[43m    \u001b[49m\u001b[43mtimeout\u001b[49m\u001b[43m=\u001b[49m\u001b[43mtimeout_obj\u001b[49m\u001b[43m,\u001b[49m\n\u001b[32m    792\u001b[39m \u001b[43m    \u001b[49m\u001b[43mbody\u001b[49m\u001b[43m=\u001b[49m\u001b[43mbody\u001b[49m\u001b[43m,\u001b[49m\n\u001b[32m    793\u001b[39m \u001b[43m    \u001b[49m\u001b[43mheaders\u001b[49m\u001b[43m=\u001b[49m\u001b[43mheaders\u001b[49m\u001b[43m,\u001b[49m\n\u001b[32m    794\u001b[39m \u001b[43m    \u001b[49m\u001b[43mchunked\u001b[49m\u001b[43m=\u001b[49m\u001b[43mchunked\u001b[49m\u001b[43m,\u001b[49m\n\u001b[32m    795\u001b[39m \u001b[43m    \u001b[49m\u001b[43mretries\u001b[49m\u001b[43m=\u001b[49m\u001b[43mretries\u001b[49m\u001b[43m,\u001b[49m\n\u001b[32m    796\u001b[39m \u001b[43m    \u001b[49m\u001b[43mresponse_conn\u001b[49m\u001b[43m=\u001b[49m\u001b[43mresponse_conn\u001b[49m\u001b[43m,\u001b[49m\n\u001b[32m    797\u001b[39m \u001b[43m    \u001b[49m\u001b[43mpreload_content\u001b[49m\u001b[43m=\u001b[49m\u001b[43mpreload_content\u001b[49m\u001b[43m,\u001b[49m\n\u001b[32m    798\u001b[39m \u001b[43m    \u001b[49m\u001b[43mdecode_content\u001b[49m\u001b[43m=\u001b[49m\u001b[43mdecode_content\u001b[49m\u001b[43m,\u001b[49m\n\u001b[32m    799\u001b[39m \u001b[43m    \u001b[49m\u001b[43m*\u001b[49m\u001b[43m*\u001b[49m\u001b[43mresponse_kw\u001b[49m\u001b[43m,\u001b[49m\n\u001b[32m    800\u001b[39m \u001b[43m\u001b[49m\u001b[43m)\u001b[49m\n\u001b[32m    802\u001b[39m \u001b[38;5;66;03m# Everything went great!\u001b[39;00m\n\u001b[32m    803\u001b[39m clean_exit = \u001b[38;5;28;01mTrue\u001b[39;00m\n",
      "\u001b[36mFile \u001b[39m\u001b[32m/mnt/hddtheo/EPFL/MA4/dviz/com-480-TnT/.venv/lib/python3.12/site-packages/urllib3/connectionpool.py:534\u001b[39m, in \u001b[36mHTTPConnectionPool._make_request\u001b[39m\u001b[34m(self, conn, method, url, body, headers, retries, timeout, chunked, response_conn, preload_content, decode_content, enforce_content_length)\u001b[39m\n\u001b[32m    532\u001b[39m \u001b[38;5;66;03m# Receive the response from the server\u001b[39;00m\n\u001b[32m    533\u001b[39m \u001b[38;5;28;01mtry\u001b[39;00m:\n\u001b[32m--> \u001b[39m\u001b[32m534\u001b[39m     response = \u001b[43mconn\u001b[49m\u001b[43m.\u001b[49m\u001b[43mgetresponse\u001b[49m\u001b[43m(\u001b[49m\u001b[43m)\u001b[49m\n\u001b[32m    535\u001b[39m \u001b[38;5;28;01mexcept\u001b[39;00m (BaseSSLError, \u001b[38;5;167;01mOSError\u001b[39;00m) \u001b[38;5;28;01mas\u001b[39;00m e:\n\u001b[32m    536\u001b[39m     \u001b[38;5;28mself\u001b[39m._raise_timeout(err=e, url=url, timeout_value=read_timeout)\n",
      "\u001b[36mFile \u001b[39m\u001b[32m/mnt/hddtheo/EPFL/MA4/dviz/com-480-TnT/.venv/lib/python3.12/site-packages/urllib3/connection.py:516\u001b[39m, in \u001b[36mHTTPConnection.getresponse\u001b[39m\u001b[34m(self)\u001b[39m\n\u001b[32m    513\u001b[39m _shutdown = \u001b[38;5;28mgetattr\u001b[39m(\u001b[38;5;28mself\u001b[39m.sock, \u001b[33m\"\u001b[39m\u001b[33mshutdown\u001b[39m\u001b[33m\"\u001b[39m, \u001b[38;5;28;01mNone\u001b[39;00m)\n\u001b[32m    515\u001b[39m \u001b[38;5;66;03m# Get the response from http.client.HTTPConnection\u001b[39;00m\n\u001b[32m--> \u001b[39m\u001b[32m516\u001b[39m httplib_response = \u001b[38;5;28;43msuper\u001b[39;49m\u001b[43m(\u001b[49m\u001b[43m)\u001b[49m\u001b[43m.\u001b[49m\u001b[43mgetresponse\u001b[49m\u001b[43m(\u001b[49m\u001b[43m)\u001b[49m\n\u001b[32m    518\u001b[39m \u001b[38;5;28;01mtry\u001b[39;00m:\n\u001b[32m    519\u001b[39m     assert_header_parsing(httplib_response.msg)\n",
      "\u001b[36mFile \u001b[39m\u001b[32m/usr/lib/python3.12/http/client.py:1428\u001b[39m, in \u001b[36mHTTPConnection.getresponse\u001b[39m\u001b[34m(self)\u001b[39m\n\u001b[32m   1426\u001b[39m \u001b[38;5;28;01mtry\u001b[39;00m:\n\u001b[32m   1427\u001b[39m     \u001b[38;5;28;01mtry\u001b[39;00m:\n\u001b[32m-> \u001b[39m\u001b[32m1428\u001b[39m         \u001b[43mresponse\u001b[49m\u001b[43m.\u001b[49m\u001b[43mbegin\u001b[49m\u001b[43m(\u001b[49m\u001b[43m)\u001b[49m\n\u001b[32m   1429\u001b[39m     \u001b[38;5;28;01mexcept\u001b[39;00m \u001b[38;5;167;01mConnectionError\u001b[39;00m:\n\u001b[32m   1430\u001b[39m         \u001b[38;5;28mself\u001b[39m.close()\n",
      "\u001b[36mFile \u001b[39m\u001b[32m/usr/lib/python3.12/http/client.py:331\u001b[39m, in \u001b[36mHTTPResponse.begin\u001b[39m\u001b[34m(self)\u001b[39m\n\u001b[32m    329\u001b[39m \u001b[38;5;66;03m# read until we get a non-100 response\u001b[39;00m\n\u001b[32m    330\u001b[39m \u001b[38;5;28;01mwhile\u001b[39;00m \u001b[38;5;28;01mTrue\u001b[39;00m:\n\u001b[32m--> \u001b[39m\u001b[32m331\u001b[39m     version, status, reason = \u001b[38;5;28;43mself\u001b[39;49m\u001b[43m.\u001b[49m\u001b[43m_read_status\u001b[49m\u001b[43m(\u001b[49m\u001b[43m)\u001b[49m\n\u001b[32m    332\u001b[39m     \u001b[38;5;28;01mif\u001b[39;00m status != CONTINUE:\n\u001b[32m    333\u001b[39m         \u001b[38;5;28;01mbreak\u001b[39;00m\n",
      "\u001b[36mFile \u001b[39m\u001b[32m/usr/lib/python3.12/http/client.py:292\u001b[39m, in \u001b[36mHTTPResponse._read_status\u001b[39m\u001b[34m(self)\u001b[39m\n\u001b[32m    291\u001b[39m \u001b[38;5;28;01mdef\u001b[39;00m\u001b[38;5;250m \u001b[39m\u001b[34m_read_status\u001b[39m(\u001b[38;5;28mself\u001b[39m):\n\u001b[32m--> \u001b[39m\u001b[32m292\u001b[39m     line = \u001b[38;5;28mstr\u001b[39m(\u001b[38;5;28;43mself\u001b[39;49m\u001b[43m.\u001b[49m\u001b[43mfp\u001b[49m\u001b[43m.\u001b[49m\u001b[43mreadline\u001b[49m\u001b[43m(\u001b[49m\u001b[43m_MAXLINE\u001b[49m\u001b[43m \u001b[49m\u001b[43m+\u001b[49m\u001b[43m \u001b[49m\u001b[32;43m1\u001b[39;49m\u001b[43m)\u001b[49m, \u001b[33m\"\u001b[39m\u001b[33miso-8859-1\u001b[39m\u001b[33m\"\u001b[39m)\n\u001b[32m    293\u001b[39m     \u001b[38;5;28;01mif\u001b[39;00m \u001b[38;5;28mlen\u001b[39m(line) > _MAXLINE:\n\u001b[32m    294\u001b[39m         \u001b[38;5;28;01mraise\u001b[39;00m LineTooLong(\u001b[33m\"\u001b[39m\u001b[33mstatus line\u001b[39m\u001b[33m\"\u001b[39m)\n",
      "\u001b[36mFile \u001b[39m\u001b[32m/usr/lib/python3.12/socket.py:707\u001b[39m, in \u001b[36mSocketIO.readinto\u001b[39m\u001b[34m(self, b)\u001b[39m\n\u001b[32m    705\u001b[39m \u001b[38;5;28;01mwhile\u001b[39;00m \u001b[38;5;28;01mTrue\u001b[39;00m:\n\u001b[32m    706\u001b[39m     \u001b[38;5;28;01mtry\u001b[39;00m:\n\u001b[32m--> \u001b[39m\u001b[32m707\u001b[39m         \u001b[38;5;28;01mreturn\u001b[39;00m \u001b[38;5;28;43mself\u001b[39;49m\u001b[43m.\u001b[49m\u001b[43m_sock\u001b[49m\u001b[43m.\u001b[49m\u001b[43mrecv_into\u001b[49m\u001b[43m(\u001b[49m\u001b[43mb\u001b[49m\u001b[43m)\u001b[49m\n\u001b[32m    708\u001b[39m     \u001b[38;5;28;01mexcept\u001b[39;00m timeout:\n\u001b[32m    709\u001b[39m         \u001b[38;5;28mself\u001b[39m._timeout_occurred = \u001b[38;5;28;01mTrue\u001b[39;00m\n",
      "\u001b[36mFile \u001b[39m\u001b[32m/usr/lib/python3.12/ssl.py:1252\u001b[39m, in \u001b[36mSSLSocket.recv_into\u001b[39m\u001b[34m(self, buffer, nbytes, flags)\u001b[39m\n\u001b[32m   1248\u001b[39m     \u001b[38;5;28;01mif\u001b[39;00m flags != \u001b[32m0\u001b[39m:\n\u001b[32m   1249\u001b[39m         \u001b[38;5;28;01mraise\u001b[39;00m \u001b[38;5;167;01mValueError\u001b[39;00m(\n\u001b[32m   1250\u001b[39m           \u001b[33m\"\u001b[39m\u001b[33mnon-zero flags not allowed in calls to recv_into() on \u001b[39m\u001b[38;5;132;01m%s\u001b[39;00m\u001b[33m\"\u001b[39m %\n\u001b[32m   1251\u001b[39m           \u001b[38;5;28mself\u001b[39m.\u001b[34m__class__\u001b[39m)\n\u001b[32m-> \u001b[39m\u001b[32m1252\u001b[39m     \u001b[38;5;28;01mreturn\u001b[39;00m \u001b[38;5;28;43mself\u001b[39;49m\u001b[43m.\u001b[49m\u001b[43mread\u001b[49m\u001b[43m(\u001b[49m\u001b[43mnbytes\u001b[49m\u001b[43m,\u001b[49m\u001b[43m \u001b[49m\u001b[43mbuffer\u001b[49m\u001b[43m)\u001b[49m\n\u001b[32m   1253\u001b[39m \u001b[38;5;28;01melse\u001b[39;00m:\n\u001b[32m   1254\u001b[39m     \u001b[38;5;28;01mreturn\u001b[39;00m \u001b[38;5;28msuper\u001b[39m().recv_into(buffer, nbytes, flags)\n",
      "\u001b[36mFile \u001b[39m\u001b[32m/usr/lib/python3.12/ssl.py:1104\u001b[39m, in \u001b[36mSSLSocket.read\u001b[39m\u001b[34m(self, len, buffer)\u001b[39m\n\u001b[32m   1102\u001b[39m \u001b[38;5;28;01mtry\u001b[39;00m:\n\u001b[32m   1103\u001b[39m     \u001b[38;5;28;01mif\u001b[39;00m buffer \u001b[38;5;129;01mis\u001b[39;00m \u001b[38;5;129;01mnot\u001b[39;00m \u001b[38;5;28;01mNone\u001b[39;00m:\n\u001b[32m-> \u001b[39m\u001b[32m1104\u001b[39m         \u001b[38;5;28;01mreturn\u001b[39;00m \u001b[38;5;28;43mself\u001b[39;49m\u001b[43m.\u001b[49m\u001b[43m_sslobj\u001b[49m\u001b[43m.\u001b[49m\u001b[43mread\u001b[49m\u001b[43m(\u001b[49m\u001b[38;5;28;43mlen\u001b[39;49m\u001b[43m,\u001b[49m\u001b[43m \u001b[49m\u001b[43mbuffer\u001b[49m\u001b[43m)\u001b[49m\n\u001b[32m   1105\u001b[39m     \u001b[38;5;28;01melse\u001b[39;00m:\n\u001b[32m   1106\u001b[39m         \u001b[38;5;28;01mreturn\u001b[39;00m \u001b[38;5;28mself\u001b[39m._sslobj.read(\u001b[38;5;28mlen\u001b[39m)\n",
      "\u001b[31mKeyboardInterrupt\u001b[39m: "
     ]
    }
   ],
   "source": [
    "fetched = {\n",
    "    \"album\": [],\n",
    "    \"artist\": [],\n",
    "    \"song\": []\n",
    "}\n",
    "\n",
    "with open(\"failed.txt\", \"r\") as f:\n",
    "    lines = f.readlines()\n",
    "    for line in lines:\n",
    "        split = line.split(\",\")\n",
    "        chart = split[0].strip()\n",
    "        date = split[1].strip()\n",
    "        country = split[2].strip().lower()\n",
    "\n",
    "        json_data, sc = get_weekly_song_rankings(date, country, chartTypesMap[chart])\n",
    "        if json_data is None:\n",
    "            print(f\"Error at {date}, {country} due to error.\")\n",
    "            if sc == 401:\n",
    "                token = input(\"Please enter a new token: \")\n",
    "                headers['Authorization'] = f'Bearer {token}'\n",
    "            continue\n",
    "        rankings = weekly_to_lines(json_data, chartType)\n",
    "\n",
    "        fetched[chart].extend(rankings)"
   ]
  },
  {
   "cell_type": "code",
   "execution_count": null,
   "id": "e4312e54",
   "metadata": {},
   "outputs": [],
   "source": [
    "for chartType in fetched:\n",
    "    original_df = pd.read_csv(os.path.join(database_dir, f'{chartType}.csv'))\n",
    "    chart_df = pd.DataFrame(fetched[chartType])\n",
    "    chart_df = pd.concat([original_df, chart_df], ignore_index=True)\n",
    "    print(len(chart_df))\n",
    "    chart_df.to_csv(os.path.join(database_dir, f'{chartType}.csv'), index=False)\n",
    "    # Save to pickle as well\n",
    "    chart_df.to_pickle(os.path.join(database_dir, f'{chartType}.pkl'))"
   ]
  }
 ],
 "metadata": {
  "kernelspec": {
   "display_name": ".venv",
   "language": "python",
   "name": "python3"
  },
  "language_info": {
   "codemirror_mode": {
    "name": "ipython",
    "version": 3
   },
   "file_extension": ".py",
   "mimetype": "text/x-python",
   "name": "python",
   "nbconvert_exporter": "python",
   "pygments_lexer": "ipython3",
   "version": "3.12.3"
  }
 },
 "nbformat": 4,
 "nbformat_minor": 5
}
